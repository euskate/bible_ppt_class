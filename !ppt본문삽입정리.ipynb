{
 "cells": [
  {
   "cell_type": "code",
   "execution_count": 2,
   "metadata": {},
   "outputs": [],
   "source": [
    "import pandas as pd\n",
    "import pickle\n",
    "import re\n",
    "from pptx import Presentation"
   ]
  },
  {
   "cell_type": "code",
   "execution_count": 3,
   "metadata": {},
   "outputs": [],
   "source": [
    "## Load pickle\n",
    "with open(\"bible_dataframe.pickle\",\"rb\") as fr:\n",
    "    bibleDF = pickle.load(fr)\n",
    "with open(\"bible_dict.pickle\",\"rb\") as fr:\n",
    "    bookDict = pickle.load(fr)"
   ]
  },
  {
   "cell_type": "code",
   "execution_count": 14,
   "metadata": {},
   "outputs": [],
   "source": [
    "raw = \"\"\"\n",
    "                       【새 사람을 입으라(엡4:17-24절)】 \n",
    "\n",
    "●2020년 12월 31일(송구영신예배)           ●301장(지금까지 지내온 것)\n",
    "\n",
    "●17-18절.\n",
    "“17 그러므로 내가 이것을 말하며 주 안에서 증언하노니, 이제부터는 너희는 이방인이 그 마음의 허망한 것으로 행함 같이 행하지 말라 / 18 그들의 총명이 어두워지고, 그들 가운데 있는 무지함과 그들의 마음이 굳어짐으로 말미암아, 하나님의 생명에서 떠나 있도다.” \n",
    "\n",
    "●19절.\n",
    "“그들이 감각 없는 자가 되어, 자신을 방탕에 방임하여 모든 더러운 것을 욕심으로 행하되” \n",
    "\n",
    "●22절. \n",
    "“22 너희는 유혹의 욕심을 따라 썩어져 가는 구습을 따르는 옛 사람을 벗어 버리고” \n",
    "\n",
    "●23-24절. \n",
    "“23 오직 너희의 심령이 새롭게 되어 / 24 하나님을 따라 의와 진리의 거룩함으로 지으심을 받은, 새 사람을 입으라.”\n",
    "\n",
    "\n",
    "●1절\n",
    "“다른 세계관들은 우리를 삶의 기쁨 속에 앉혀 놓고 다가올 슬픔을 내다보게 하지만, 기독교는 신자들에게 이 세상의 슬픔 속에 앉아 장차 올 기쁨을 능히 맛보게 한다.”\n",
    "\n",
    "●20-21절.\n",
    "“20 오직 너희는 그리스도를 그같이 배우지 아니하였느니라 / 21 진리가 예수 안에 있는 것 같이, 너희가 참으로 그에게서 듣고 또한 그 안에서 가르침을 받았을진대” \n",
    "\n",
    "●고린도후서 5장 17절.\n",
    "“그런즉 누구든지 그리스도 안에 있으면 새로운 피조물이라. 이전 것은 지나갔으니 보라 새 것이 되었도다.” \n",
    "\n",
    "●1절\n",
    "“최대한 행복해 지는 것이, 모든 그리스도의 의무이다”\n",
    "\n",
    "●1절\n",
    "“하나님은 인간을 지으실 때도 다른 모든 피조물이 그런 것처럼 행복하도록 지으셨다. 행복한 것이 인간의 제 모습이다.”\n",
    "\n",
    "●스바냐 3장 14절.\n",
    "“시온의 딸아. 노래할지어다. 이스라엘아. 기쁘게 부를지어다. 예루살렘 딸아. 전심으로 기뻐하며(행복해하며) 즐거워할지어다.”\n",
    "\"\"\""
   ]
  },
  {
   "cell_type": "code",
   "execution_count": 15,
   "metadata": {},
   "outputs": [],
   "source": [
    "# 성경 약자 반환 함수\n",
    "def abbreviation(book):\n",
    "    if book in list(bookDict.values()):\n",
    "        book = list(bookDict.keys())[list(bookDict.values()).index(book)]\n",
    "    return book"
   ]
  },
  {
   "cell_type": "code",
   "execution_count": 16,
   "metadata": {},
   "outputs": [],
   "source": [
    "# 정규식 파싱 함수 \n",
    "def parse_paragraph(paragraph):\n",
    "    regex = re.compile('(?P<book>[ㄱ-ㅣ가-힣]+)\\s*(?P<chapter>[0-9]+):?장?\\s*(?P<verse_start>[0-9]+)-*(?P<verse_end>[0-9]+)*절?')\n",
    "    parsed_paragraph = regex.search(paragraph)\n",
    "\n",
    "    # print(parsed_paragraph.groups())\n",
    "\n",
    "    book = parsed_paragraph.group('book')\n",
    "    chapter = parsed_paragraph.group('chapter')\n",
    "    verse_start = parsed_paragraph.group('verse_start')\n",
    "    verse_end = parsed_paragraph.group('verse_end')\n",
    "\n",
    "    if book in list(bookDict.values()):\n",
    "        book = list(bookDict.keys())[list(bookDict.values()).index(book)]\n",
    "        \n",
    "    return book, chapter, verse_start, verse_end\n",
    "# book, chapter, verse_start, verse_end = parse_paragraph(paragraph)"
   ]
  },
  {
   "cell_type": "code",
   "execution_count": 17,
   "metadata": {},
   "outputs": [],
   "source": [
    "# 검색 구절을 사전형태로 반환하는 함수\n",
    "def dict_contents(book, chapter, verse_start, verse_end):\n",
    "    search_result = bibleDF.loc[ (bibleDF.book == book) & \\\n",
    "                                 (bibleDF.chapter == int(chapter)) & \\\n",
    "                                 (bibleDF.verse >= int(verse_start)) & \\\n",
    "                                 (bibleDF.verse <= int(verse_end)),\n",
    "                                 'contents' ]\n",
    "    verses = range(int(verse_start), int(verse_end)+1)\n",
    "    keys = [ f\"{bookDict[book]} {chapter}장 {i}절\" for i in verses ]\n",
    "    contentsDict = dict(zip(keys, search_result))\n",
    "    return keys, contentsDict\n",
    "# contentsDict = dict_contents(book, chapter, verse_start, verse_end)"
   ]
  },
  {
   "cell_type": "code",
   "execution_count": 18,
   "metadata": {},
   "outputs": [],
   "source": [
    "def parsing_contents(raw):\n",
    "    regex = re.compile(r'【\\s*?(?P<title>.*?)\\((?P<main_verse>.*?)\\)?s*?】')\n",
    "    main_title = regex.search(raw).group('title').strip()\n",
    "    main_verse = regex.search(raw).group('main_verse')\n",
    "    main_book, main_chapter, main_verse_start, main_verse_end = parse_paragraph(main_verse)\n",
    "    \n",
    "    regex = re.compile(r'●(.*?)\\n“(.*?)”')\n",
    "    all_p = regex.findall(raw)\n",
    "    \n",
    "    resultList = list()\n",
    "    for i, c in all_p:\n",
    "        regex = re.compile('(?P<book>[ㄱ-ㅣ가-힣]+)\\s*(?P<chapter>[0-9]+):?장?\\s*(?P<verse_start>[0-9]+)-*(?P<verse_end>[0-9]+)*절?')\n",
    "        parsed_paragraph = regex.search(i)\n",
    "        if parsed_paragraph:\n",
    "            book = parsed_paragraph.group('book')\n",
    "            chapter = parsed_paragraph.group('chapter')\n",
    "            verse_start = parsed_paragraph.group('verse_start')\n",
    "            verse_end = parsed_paragraph.group('verse_end')\n",
    "            book = abbreviation(book)\n",
    "        else:\n",
    "            regex = re.compile('(?P<verse_start>[0-9]+)-*(?P<verse_end>[0-9]+)*절?')\n",
    "            parsed_p = regex.search(i)\n",
    "            book = main_book\n",
    "            chapter = main_chapter\n",
    "            verse_start = parsed_p.group('verse_start')\n",
    "            verse_end = parsed_p.group('verse_end')\n",
    "        if verse_end:\n",
    "            contents = [ p.strip() for p in c.split('/') ]\n",
    "        else:\n",
    "            contents = [ c.strip() ]\n",
    "        resultList.append((book, chapter, verse_start, verse_end, contents))\n",
    "    return resultList, main_book, main_chapter, main_verse_start, main_verse_end, main_title"
   ]
  },
  {
   "cell_type": "code",
   "execution_count": 19,
   "metadata": {},
   "outputs": [],
   "source": [
    "resultList, main_book, main_chapter, main_verse_start, main_verse_end, main_title = parsing_contents(raw)"
   ]
  },
  {
   "cell_type": "code",
   "execution_count": 20,
   "metadata": {},
   "outputs": [
    {
     "data": {
      "text/plain": [
       "('엡', '4', '17', '24', '새 사람을 입으라')"
      ]
     },
     "execution_count": 20,
     "metadata": {},
     "output_type": "execute_result"
    }
   ],
   "source": [
    " main_book, main_chapter, main_verse_start, main_verse_end, main_title"
   ]
  },
  {
   "cell_type": "code",
   "execution_count": 21,
   "metadata": {},
   "outputs": [],
   "source": [
    "keys, contentsDict = dict_contents(main_book, main_chapter, main_verse_start, main_verse_end)"
   ]
  },
  {
   "cell_type": "code",
   "execution_count": 22,
   "metadata": {},
   "outputs": [],
   "source": [
    "from pptx import Presentation\n",
    "from pptx.util import Pt\n",
    "\n",
    "template_path='./verse_template.pptx'\n",
    "save_file_name='new-file-name.pptx'\n"
   ]
  },
  {
   "cell_type": "code",
   "execution_count": 24,
   "metadata": {},
   "outputs": [],
   "source": [
    "# def present(resultList=resultList, template_path=template_path, save_file_name=save_file_name, book=main_book, chapter=main_chapter, verse_start=main_verse_start, verse_end=main_verse_end, keys=keys, contentsDict=contentsDict, main_title=main_title):\n",
    "prs = Presentation(template_path)\n",
    "\n",
    "# 타이틀 삽입\n",
    "title_slide_layout = prs.slide_layouts[0]\n",
    "slide = prs.slides.add_slide(title_slide_layout)\n",
    "title = slide.shapes.title\n",
    "subtitle = slide.placeholders[1]\n",
    "\n",
    "title.text = \"성경봉독\"\n",
    "subtitle.text = f\"{bookDict[main_book]} {main_chapter}장 {main_verse_start}-{main_verse_end}절\"\n",
    "# slide.shapes[2].text_frame.text = \"(신약 p.)\"\n",
    "\n",
    "# 본문 삽입\n",
    "for key in keys :\n",
    "    contents_slide_layout = prs.slide_layouts[1]\n",
    "    slide = prs.slides.add_slide(contents_slide_layout)\n",
    "    title = slide.shapes.title\n",
    "    contents = slide.placeholders[1]\n",
    "\n",
    "    title.text = key\n",
    "    contents.text = contentsDict[key]\n",
    "\n",
    "#############        \n",
    "# 타이틀 삽입\n",
    "title_slide_layout = prs.slide_layouts[0]\n",
    "slide = prs.slides.add_slide(title_slide_layout)\n",
    "title = slide.shapes.title\n",
    "subtitle = slide.placeholders[1]\n",
    "\n",
    "title.text = \"말씀선포\"\n",
    "subtitle.text = main_title\n",
    "\n",
    "for book, chapter, verse_start, verse_end, contents in resultList:\n",
    "    if not verse_end:\n",
    "        key = f\"{bookDict[book]} {chapter}장 {verse_start}절\"\n",
    "        # pptx\n",
    "        contents_slide_layout = prs.slide_layouts[1]\n",
    "        slide = prs.slides.add_slide(contents_slide_layout)\n",
    "        title_placeholder = slide.shapes.title\n",
    "        contents_placeholder = slide.placeholders[1]\n",
    "        \n",
    "        title_placeholder.text = key\n",
    "        contents_placeholder.text = contents[0]\n",
    "    else:\n",
    "        key = f\"{bookDict[book]} {chapter}장 {verse_start}-{verse_end}절\" \n",
    "        \n",
    "        contents_slide_layout = prs.slide_layouts[2]\n",
    "        slide = prs.slides.add_slide(contents_slide_layout)\n",
    "        \n",
    "        title_placeholder = slide.shapes.title\n",
    "        title_placeholder.text = key\n",
    "\n",
    "        contents_text_frame = slide.placeholders[1].text_frame\n",
    "        for _ in range(len(contents)-1):\n",
    "            contents_text_frame.add_paragraph()\n",
    "        for i in range(len(contents)):\n",
    "            tmp1 = contents_text_frame.paragraphs[i].add_run()\n",
    "            tmp1.text = re.search('\\d+', contents[i]).group()\n",
    "            tmp1.font.size = Pt(36)\n",
    "            tmp2 = contents_text_frame.paragraphs[i].add_run()\n",
    "            tmp2.text = re.sub('\\d+', '', contents[i])\n",
    "\n",
    "prs.save(save_file_name)"
   ]
  },
  {
   "cell_type": "code",
   "execution_count": null,
   "metadata": {},
   "outputs": [],
   "source": []
  },
  {
   "cell_type": "code",
   "execution_count": null,
   "metadata": {},
   "outputs": [],
   "source": []
  },
  {
   "cell_type": "code",
   "execution_count": null,
   "metadata": {},
   "outputs": [],
   "source": []
  },
  {
   "cell_type": "code",
   "execution_count": null,
   "metadata": {},
   "outputs": [],
   "source": []
  },
  {
   "cell_type": "code",
   "execution_count": 17,
   "metadata": {},
   "outputs": [
    {
     "data": {
      "text/plain": [
       "('행', '3', '17', '26')"
      ]
     },
     "execution_count": 17,
     "metadata": {},
     "output_type": "execute_result"
    }
   ],
   "source": [
    "main_book, main_chapter, main_verse_start, main_verse_end = parse_paragraph(\"사도행전 3장 17-26절\")\n",
    "main_book, main_chapter, main_verse_start, main_verse_end"
   ]
  },
  {
   "cell_type": "code",
   "execution_count": 18,
   "metadata": {},
   "outputs": [],
   "source": [
    "keys, contentsDict = dict_contents(main_book, main_chapter, main_verse_start, main_verse_end)"
   ]
  },
  {
   "cell_type": "code",
   "execution_count": 22,
   "metadata": {},
   "outputs": [],
   "source": [
    "from pptx import Presentation\n",
    "from pptx.util import Pt\n",
    "\n",
    "template_path='./verse_template.pptx'\n",
    "save_file_name='new-file-name.pptx'\n",
    "\n",
    "prs = Presentation(template_path)\n",
    "\n",
    "# 본문 삽입\n",
    "for key in keys :\n",
    "    contents_slide_layout = prs.slide_layouts[1]\n",
    "    slide = prs.slides.add_slide(contents_slide_layout)\n",
    "    title = slide.shapes.title\n",
    "    contents = slide.placeholders[1]\n",
    "\n",
    "    title.text = key\n",
    "    contents.text = contentsDict[key]\n",
    "\n",
    "prs.save(save_file_name)"
   ]
  },
  {
   "cell_type": "code",
   "execution_count": null,
   "metadata": {},
   "outputs": [],
   "source": []
  },
  {
   "cell_type": "code",
   "execution_count": null,
   "metadata": {},
   "outputs": [],
   "source": []
  },
  {
   "cell_type": "markdown",
   "metadata": {},
   "source": [
    "---"
   ]
  },
  {
   "cell_type": "code",
   "execution_count": 13,
   "metadata": {},
   "outputs": [
    {
     "data": {
      "text/plain": [
       "['사도행전 2장 22절',\n",
       " '사도행전 2장 23절',\n",
       " '사도행전 2장 24절',\n",
       " '사도행전 2장 25절',\n",
       " '사도행전 2장 26절',\n",
       " '사도행전 2장 27절',\n",
       " '사도행전 2장 28절',\n",
       " '사도행전 2장 29절',\n",
       " '사도행전 2장 30절',\n",
       " '사도행전 2장 31절',\n",
       " '사도행전 2장 32절',\n",
       " '사도행전 2장 33절',\n",
       " '사도행전 2장 34절',\n",
       " '사도행전 2장 35절',\n",
       " '사도행전 2장 36절']"
      ]
     },
     "execution_count": 13,
     "metadata": {},
     "output_type": "execute_result"
    }
   ],
   "source": [
    "keys"
   ]
  },
  {
   "cell_type": "code",
   "execution_count": 14,
   "metadata": {},
   "outputs": [
    {
     "data": {
      "text/plain": [
       "'사도행전 2장 22-24절'"
      ]
     },
     "execution_count": 14,
     "metadata": {},
     "output_type": "execute_result"
    }
   ],
   "source": [
    "book, chapter, verse_start, verse_end, contents = resultList[0]\n",
    "book, chapter, verse_start, verse_end, contents\n",
    "key = f\"{bookDict[book]} {chapter}장 {verse_start}-{verse_end}절\" \n",
    "key"
   ]
  },
  {
   "cell_type": "code",
   "execution_count": 15,
   "metadata": {},
   "outputs": [
    {
     "data": {
      "text/plain": [
       "['행', '행', '행', '막', '고전', '마', '마', '빌', '빌', '고후']"
      ]
     },
     "execution_count": 15,
     "metadata": {},
     "output_type": "execute_result"
    }
   ],
   "source": [
    "[ book for book, chapter, verse_start, verse_end, contents in resultList ] "
   ]
  },
  {
   "cell_type": "code",
   "execution_count": 17,
   "metadata": {},
   "outputs": [
    {
     "ename": "AttributeError",
     "evalue": "'_Run' object has no attribute 'group'",
     "output_type": "error",
     "traceback": [
      "\u001b[1;31m---------------------------------------------------------------------------\u001b[0m",
      "\u001b[1;31mAttributeError\u001b[0m                            Traceback (most recent call last)",
      "\u001b[1;32m<ipython-input-17-03a58a482aff>\u001b[0m in \u001b[0;36m<module>\u001b[1;34m\u001b[0m\n\u001b[1;32m----> 1\u001b[1;33m \u001b[0mtmp1\u001b[0m\u001b[1;33m.\u001b[0m\u001b[0mgroup\u001b[0m\u001b[1;33m\u001b[0m\u001b[1;33m\u001b[0m\u001b[0m\n\u001b[0m",
      "\u001b[1;31mAttributeError\u001b[0m: '_Run' object has no attribute 'group'"
     ]
    }
   ],
   "source": [
    "tmp1.group"
   ]
  },
  {
   "cell_type": "code",
   "execution_count": 28,
   "metadata": {},
   "outputs": [
    {
     "data": {
      "text/plain": [
       "['그는 근본 하나님의 본체시나 하나님과 동등됨을 취할 것으로 여기지 아니하시고, 오히려 자기를 비워 종의 형체를 가지사 사람들과 같이 되셨고, 사람의 모양으로 나타나사 자기를 낮추시고 죽기까지 복종하셨으니 곧 십자가에 죽으심이라.']"
      ]
     },
     "execution_count": 28,
     "metadata": {},
     "output_type": "execute_result"
    }
   ],
   "source": [
    "contents"
   ]
  },
  {
   "cell_type": "code",
   "execution_count": 29,
   "metadata": {},
   "outputs": [
    {
     "data": {
      "text/plain": [
       "[('행',\n",
       "  '2',\n",
       "  '22',\n",
       "  '24',\n",
       "  ['22 이스라엘 사람들아. 이 말을 들으라. 너희도 아는 바와 같이 하나님께서 나사렛 예수로 큰 권능과 기사와 표적을 너희 가운데서 베푸사, 너희 앞에서 그를 증언하셨느니라',\n",
       "   '23 그가 하나님께서 정하신 뜻과 미리 아신대로 내준 바 되었거늘, 너희가 법 없는 자들의 손을 빌려 못 박아 죽였으나',\n",
       "   '24 하나님께서 그를 사망의 고통에서 풀어 살리셨으니, 이는 그가 사망에 매여 있을 수 없었음이라.']),\n",
       " ('행',\n",
       "  '2',\n",
       "  '36',\n",
       "  None,\n",
       "  ['그런즉 이스라엘 온 집은 확실히 알지니, 너희가 십자가에 못 박은 이 예수를 하나님이 주와 그리스도가 되게 하셨느니라 하니라.']),\n",
       " ('행',\n",
       "  '2',\n",
       "  '29',\n",
       "  '32',\n",
       "  ['29 형제들아. 내가 조상 다윗에 대하여 담대히 말할 수 있노니, 다윗이 죽어 장사되어 그 묘가 오늘까지 우리 중에 있도다',\n",
       "   '30 그는 선지자라. 하나님이 이미 맹세하사, 그 자손 중에서 한 사람을 그 위에 앉게 하리라 하심을 알고',\n",
       "   '31 미리 본 고로 그리스도의 부활을 말하되, 그가 음부에 버림이 되지 않고, 그의 육신이 썩음을 당하지 아니하시리라 하더니',\n",
       "   '32 이 예수를 하나님이 살리신지라. 우리가 다 이 일에 증인이로다.']),\n",
       " ('막',\n",
       "  '1',\n",
       "  '16',\n",
       "  '20',\n",
       "  ['16 갈리리 해변으로 지나가시다가, 시몬과 그 형제 안드레가 바다에 그물을 던지는 것을 보시니, 그들은 어부라',\n",
       "   '17 예수께서 이르시되, 나를 따라오라. 내가 너희로 사람을 낚는 어부가 되게 하리라 하시니',\n",
       "   '18 곧 그물을 버려 두고 따르니라',\n",
       "   '19 조금 더 가시다가 세베대의 아들 야고보와 그 형제 요한을 보시니, 그들도 배에 있어 그물을 깁는데',\n",
       "   '20 곧 부르시니, 그 아버지 세베대를 품꾼들과 함께 배에 버려 두고 예수를 따라가니라.']),\n",
       " ('고전',\n",
       "  '9',\n",
       "  '5',\n",
       "  None,\n",
       "  ['우리가 다른 사도들과 주의 형제들과 게바와 같이 믿음의 자매 된 아내를 데리고 다닐 권리가 없겠느냐?']),\n",
       " ('마', '20', '20', None, ['그 때에 세베대의 아들의 어머니가 그 아들들을 데리고 예수께 와서 절하며 무엇을 구하니']),\n",
       " ('마', '4', '25', None, ['갈리리와 데가볼리와 예루살렘과 유대와 요단 강 건너편에서 수많은 무리가 따르니라.']),\n",
       " ('빌',\n",
       "  '3',\n",
       "  '7',\n",
       "  '8',\n",
       "  ['7 그러나 무엇이든지 내게 유익하던 것을 내가 그리스도를 위하여 다 해로 여길뿐더러',\n",
       "   '8 또한 모든 것을 해로 여김은 내 주 그리스도 예수를 아는 지식이 가장 고상하기 때문이라. 내가 그를 위하여 모든 것을 잃어버리고, 배설물로 여김은 그리스도를 알고']),\n",
       " ('빌',\n",
       "  '2',\n",
       "  '6',\n",
       "  '8',\n",
       "  ['그는 근본 하나님의 본체시나 하나님과 동등됨을 취할 것으로 여기지 아니하시고, 오히려 자기를 비워 종의 형체를 가지사 사람들과 같이 되셨고, 사람의 모양으로 나타나사 자기를 낮추시고 죽기까지 복종하셨으니 곧 십자가에 죽으심이라.']),\n",
       " ('고후',\n",
       "  '8',\n",
       "  '9',\n",
       "  None,\n",
       "  ['우리 주 예수 그리스도의 은혜를 너희가 알거니와, 부요하신 이로서 너희를 위하여 가난하게 되심은, 그의 가난함으로 말미암아 너희로 부요하게 하려 하심이니라'])]"
      ]
     },
     "execution_count": 29,
     "metadata": {},
     "output_type": "execute_result"
    }
   ],
   "source": [
    "resultList"
   ]
  },
  {
   "cell_type": "code",
   "execution_count": 10,
   "metadata": {},
   "outputs": [],
   "source": [
    "text = \"\"\"\n",
    "3. 교육부서 임원, 교사 임명\t\t\t\t\t\t\t\n",
    "\t\t\t\t\t\t\t\n",
    "  - 대학청년부 (5명)\t\t\t\t\t\t\t\n",
    "\"     (교역자) 이정오목사   (부장집사) 한병수  (회장) 천성택   (회계)유우종  (새가족반) 조현진\n",
    "     \"\t\t\t\t\t\t\t\n",
    "  - 중고등부 (4명)\t\t\t\t\t\t\t\n",
    "     (교역자) 정병호   (부장집사) 서두익 이현경  (총무, 교사) 박혜민  (회계) 유정란  \t\t\t\t\t\t\t\n",
    "  - 유초등부 (7명)\t\t\t\t\t\t\t\n",
    "     (교역자) 정병호   (부장집사) 김영희   (총무, 회계, 교사) 최승수 \t\t\t\t\t\t\t\n",
    "     (교사) 이동현  추진영  이예찬  (서기, 보조교사) 남성주\t\t\t\t\t\t\t\n",
    "  - 유치부 (7명)\t\t\t\t\t\t\t\n",
    "     (교역자) 조현진   (부장집사) 김덕수   (총무) 김혜림   (회계) 김준오\t\t\t\t\t\t\t\n",
    "     (교사) 김정미  천성택  최현경\t\t\t\t\t\t\t\n",
    "\n",
    "\"\"\""
   ]
  },
  {
   "cell_type": "code",
   "execution_count": 11,
   "metadata": {},
   "outputs": [
    {
     "data": {
      "text/plain": [
       "'3. 교육부서 임원, 교사 임명  - 대학청년부 (5명)\"     (교역자) 이정오목사   (부장집사) 한병수  (회장) 천성택   (회계)유우종  (새가족반) 조현진     \"  - 중고등부 (4명)     (교역자) 정병호   (부장집사) 서두익 이현경  (총무, 교사) 박혜민  (회계) 유정란    - 유초등부 (7명)     (교역자) 정병호   (부장집사) 김영희   (총무, 회계, 교사) 최승수      (교사) 이동현  추진영  이예찬  (서기, 보조교사) 남성주  - 유치부 (7명)     (교역자) 조현진   (부장집사) 김덕수   (총무) 김혜림   (회계) 김준오     (교사) 김정미  천성택  최현경'"
      ]
     },
     "execution_count": 11,
     "metadata": {},
     "output_type": "execute_result"
    }
   ],
   "source": [
    "text.strip().replace('\\t','').replace('\\n','')"
   ]
  },
  {
   "cell_type": "code",
   "execution_count": 8,
   "metadata": {},
   "outputs": [
    {
     "data": {
      "text/plain": [
       "'- 일반재정부 (4명)\\n     (부장) 윤영배  (위원) 오광수  이서영  이현재  \\n  - 선교재정부 (2명)\\n     (부장) 장현준  (위원) 김덕수  \\n  - 교회이전위원회 (17명)\\n     (위원장) 한병수  (총무) 오광수  (서기) 유우종  (회계 및 재정팀장) 장현준  (기술팀장) 서두익 \\n     (행정팀장) 윤영배  (위원) 김덕수 김정도 서상욱 유안종 양하늬 이상필 이서영 이점달 이현재\\n      장 원 최승수 \\n  - 감사팀 (2명)\\n    (팀장) 한병수  (팀원) 이점달\\n  - 찬양팀(17명)\\n    (팀장) 오광수  (총무) 이현경  (팀원) 강보배  김정미  김준오  김훈성  박아영  양진병  유안종\\n     유우종  이다빈  임진슬  장원  정병호  천성택  최현경  허선혜\"'"
      ]
     },
     "execution_count": 8,
     "metadata": {},
     "output_type": "execute_result"
    }
   ],
   "source": []
  },
  {
   "cell_type": "code",
   "execution_count": null,
   "metadata": {},
   "outputs": [],
   "source": []
  }
 ],
 "metadata": {
  "kernelspec": {
   "display_name": "Python 3",
   "language": "python",
   "name": "python3"
  },
  "language_info": {
   "codemirror_mode": {
    "name": "ipython",
    "version": 3
   },
   "file_extension": ".py",
   "mimetype": "text/x-python",
   "name": "python",
   "nbconvert_exporter": "python",
   "pygments_lexer": "ipython3",
   "version": "3.7.4"
  }
 },
 "nbformat": 4,
 "nbformat_minor": 4
}
